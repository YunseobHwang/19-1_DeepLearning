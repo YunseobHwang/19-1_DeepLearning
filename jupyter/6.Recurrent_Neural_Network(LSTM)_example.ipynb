{
 "cells": [
  {
   "cell_type": "code",
   "execution_count": 2,
   "metadata": {},
   "outputs": [],
   "source": [
    "import tensorflow as tf\n",
    "from six.moves import cPickle\n",
    "import numpy as np\n",
    "import matplotlib.pyplot as plt"
   ]
  },
  {
   "cell_type": "code",
   "execution_count": 3,
   "metadata": {},
   "outputs": [
    {
     "name": "stdout",
     "output_type": "stream",
     "text": [
      "WARNING:tensorflow:From <ipython-input-3-8bf8ae5a5303>:2: read_data_sets (from tensorflow.contrib.learn.python.learn.datasets.mnist) is deprecated and will be removed in a future version.\n",
      "Instructions for updating:\n",
      "Please use alternatives such as official/mnist/dataset.py from tensorflow/models.\n",
      "WARNING:tensorflow:From c:\\users\\iai_yunseob\\appdata\\local\\programs\\python\\python37\\lib\\site-packages\\tensorflow\\contrib\\learn\\python\\learn\\datasets\\mnist.py:260: maybe_download (from tensorflow.contrib.learn.python.learn.datasets.base) is deprecated and will be removed in a future version.\n",
      "Instructions for updating:\n",
      "Please write your own downloading logic.\n",
      "WARNING:tensorflow:From c:\\users\\iai_yunseob\\appdata\\local\\programs\\python\\python37\\lib\\site-packages\\tensorflow\\contrib\\learn\\python\\learn\\datasets\\mnist.py:262: extract_images (from tensorflow.contrib.learn.python.learn.datasets.mnist) is deprecated and will be removed in a future version.\n",
      "Instructions for updating:\n",
      "Please use tf.data to implement this functionality.\n",
      "Extracting MNIST_data/train-images-idx3-ubyte.gz\n",
      "WARNING:tensorflow:From c:\\users\\iai_yunseob\\appdata\\local\\programs\\python\\python37\\lib\\site-packages\\tensorflow\\contrib\\learn\\python\\learn\\datasets\\mnist.py:267: extract_labels (from tensorflow.contrib.learn.python.learn.datasets.mnist) is deprecated and will be removed in a future version.\n",
      "Instructions for updating:\n",
      "Please use tf.data to implement this functionality.\n",
      "Extracting MNIST_data/train-labels-idx1-ubyte.gz\n",
      "WARNING:tensorflow:From c:\\users\\iai_yunseob\\appdata\\local\\programs\\python\\python37\\lib\\site-packages\\tensorflow\\contrib\\learn\\python\\learn\\datasets\\mnist.py:110: dense_to_one_hot (from tensorflow.contrib.learn.python.learn.datasets.mnist) is deprecated and will be removed in a future version.\n",
      "Instructions for updating:\n",
      "Please use tf.one_hot on tensors.\n",
      "Extracting MNIST_data/t10k-images-idx3-ubyte.gz\n",
      "Extracting MNIST_data/t10k-labels-idx1-ubyte.gz\n",
      "WARNING:tensorflow:From c:\\users\\iai_yunseob\\appdata\\local\\programs\\python\\python37\\lib\\site-packages\\tensorflow\\contrib\\learn\\python\\learn\\datasets\\mnist.py:290: DataSet.__init__ (from tensorflow.contrib.learn.python.learn.datasets.mnist) is deprecated and will be removed in a future version.\n",
      "Instructions for updating:\n",
      "Please use alternatives such as official/mnist/dataset.py from tensorflow/models.\n"
     ]
    }
   ],
   "source": [
    "from tensorflow.examples.tutorials.mnist import input_data\n",
    "mnist = input_data.read_data_sets(\"MNIST_data/\", one_hot=True)"
   ]
  },
  {
   "cell_type": "code",
   "execution_count": 3,
   "metadata": {},
   "outputs": [
    {
     "data": {
      "image/png": "[encoded data removed]",
      "text/plain": [
       "<Figure size 360x216 with 1 Axes>"
      ]
     },
     "metadata": {},
     "output_type": "display_data"
    }
   ],
   "source": [
    "# Check data\n",
    "train_x, train_y = mnist.train.next_batch(10)\n",
    "img = train_x[9,:].reshape(28, 28)\n",
    "\n",
    "plt.figure(figsize=(5, 3))\n",
    "plt.imshow(img,'gray')\n",
    "plt.title(\"Label : {}\".format(np.argmax(train_y[9])))\n",
    "plt.xticks([])\n",
    "plt.yticks([])\n",
    "plt.show()"
   ]
  },
  {
   "cell_type": "code",
   "execution_count": 4,
   "metadata": {},
   "outputs": [],
   "source": [
    "n_step = 14\n",
    "n_input = 28\n",
    "\n",
    "## LSTM shape\n",
    "n_lstm1 = 10\n",
    "n_lstm2 = 10\n",
    "\n",
    "## Fully connected\n",
    "n_hidden = 100\n",
    "n_output = 28"
   ]
  },
  {
   "cell_type": "code",
   "execution_count": 5,
   "metadata": {},
   "outputs": [],
   "source": [
    "weights = {\n",
    "    'hidden' : tf.Variable(tf.random_normal([n_lstm2, n_hidden], stddev=0.01)),\n",
    "    'output' : tf.Variable(tf.random_normal([n_hidden, n_output], stddev=0.01))\n",
    "}\n",
    "\n",
    "biases = {\n",
    "    'hidden' : tf.Variable(tf.random_normal([n_hidden], stddev=0.01)),\n",
    "    'output' : tf.Variable(tf.random_normal([n_output], stddev=0.01))\n",
    "}\n",
    "\n",
    "x = tf.placeholder(tf.float32, [None, n_step, n_input])\n",
    "y = tf.placeholder(tf.float32, [None, n_output])"
   ]
  },
  {
   "cell_type": "code",
   "execution_count": 6,
   "metadata": {},
   "outputs": [],
   "source": [
    "def build_model(x, weights, biases):\n",
    "    with tf.variable_scope('rnn'):\n",
    "        # Build RNN network\n",
    "        with tf.variable_scope('lstm1'):            \n",
    "            lstm1 = tf.contrib.rnn.BasicLSTMCell(n_lstm1)\n",
    "            h1, c1 = tf.nn.dynamic_rnn(lstm1, x, dtype=tf.float32)\n",
    "        with tf.variable_scope('lstm2'):            \n",
    "            lstm2 = tf.contrib.rnn.BasicLSTMCell(n_lstm2)\n",
    "            h2, c2 = tf.nn.dynamic_rnn(lstm2, h1, dtype=tf.float32)\n",
    "            \n",
    "        # Build classifier\n",
    "        hidden = tf.add(tf.matmul(h2[:,-1,:], weights['hidden']), biases['hidden'])\n",
    "        hidden = tf.nn.relu(hidden)\n",
    "        output = tf.add(tf.matmul(hidden, weights['output']), biases['output'])\n",
    "        return output"
   ]
  },
  {
   "cell_type": "code",
   "execution_count": 7,
   "metadata": {},
   "outputs": [
    {
     "name": "stdout",
     "output_type": "stream",
     "text": [
      "WARNING:tensorflow:From <ipython-input-6-94acc8977696>:5: BasicLSTMCell.__init__ (from tensorflow.python.ops.rnn_cell_impl) is deprecated and will be removed in a future version.\n",
      "Instructions for updating:\n",
      "This class is deprecated, please use tf.nn.rnn_cell.LSTMCell, which supports all the feature this cell currently has. Please replace the existing code with tf.nn.rnn_cell.LSTMCell(name='basic_lstm_cell').\n"
     ]
    }
   ],
   "source": [
    "LR = 0.0005\n",
    "\n",
    "pred = build_model(x, weights, biases)\n",
    "loss = tf.square(tf.subtract(y, pred))\n",
    "loss = tf.reduce_mean(loss)\n",
    "\n",
    "optm = tf.train.AdamOptimizer(LR).minimize(loss)\n",
    "\n",
    "init = tf.global_variables_initializer()"
   ]
  },
  {
   "cell_type": "code",
   "execution_count": 8,
   "metadata": {},
   "outputs": [],
   "source": [
    "n_iter = 2500\n",
    "n_prt = 100"
   ]
  },
  {
   "cell_type": "code",
   "execution_count": 12,
   "metadata": {},
   "outputs": [
    {
     "name": "stdout",
     "output_type": "stream",
     "text": [
      "<class 'numpy.ndarray'>\n",
      "(50, 28, 28)\n",
      "(50, 14, 28)\n",
      "(50, 28)\n",
      "(49, 28, 28)\n"
     ]
    }
   ],
   "source": [
    "train_x, train_y = mnist.train.next_batch(50)\n",
    "train_x = train_x.reshape(-1, 28, 28)\n",
    "\n",
    "print(type(train_x))\n",
    "print(train_x.shape)\n",
    "\n",
    "print(train_x[:, 0:14, :].shape)\n",
    "print(train_x[:, 14].shape)\n",
    "train_x = np.delete(train_x, 0, 0)\n",
    "\n",
    "print(train_x.shape)"
   ]
  },
  {
   "cell_type": "code",
   "execution_count": 9,
   "metadata": {},
   "outputs": [
    {
     "name": "stdout",
     "output_type": "stream",
     "text": [
      "Iter : 0\n",
      "Cost : 0.0005420788656920195\n",
      "Iter : 100\n",
      "Cost : 0.0012786845909431577\n",
      "Iter : 200\n",
      "Cost : 0.0021732556633651257\n",
      "Iter : 300\n",
      "Cost : 0.002523701172322035\n",
      "Iter : 400\n",
      "Cost : 0.001499653561040759\n",
      "Iter : 500\n",
      "Cost : 0.0016478688921779394\n",
      "Iter : 600\n",
      "Cost : 0.002511735074222088\n",
      "Iter : 700\n",
      "Cost : 0.0019509167177602649\n",
      "Iter : 800\n",
      "Cost : 0.002563557354733348\n",
      "Iter : 900\n",
      "Cost : 0.0012227698462083936\n",
      "Iter : 1000\n",
      "Cost : 0.0015334438066929579\n",
      "Iter : 1100\n",
      "Cost : 0.0019261935958638787\n",
      "Iter : 1200\n",
      "Cost : 0.0015193894505500793\n",
      "Iter : 1300\n",
      "Cost : 0.00013302697334438562\n",
      "Iter : 1400\n",
      "Cost : 0.0012610178673639894\n",
      "Iter : 1500\n",
      "Cost : 0.002484919736161828\n",
      "Iter : 1600\n",
      "Cost : 0.003990019205957651\n",
      "Iter : 1700\n",
      "Cost : 0.0009061943856067955\n",
      "Iter : 1800\n",
      "Cost : 0.002045021392405033\n",
      "Iter : 1900\n",
      "Cost : 0.004554728511720896\n",
      "Iter : 2000\n",
      "Cost : 0.0009968430968001485\n",
      "Iter : 2100\n",
      "Cost : 0.002273204969242215\n",
      "Iter : 2200\n",
      "Cost : 0.0020944394636899233\n",
      "Iter : 2300\n",
      "Cost : 0.000756717985495925\n",
      "Iter : 2400\n",
      "Cost : 0.0028049207758158445\n"
     ]
    }
   ],
   "source": [
    "# Run initialize\n",
    "# config = tf.ConfigProto(allow_soft_placement=True)  # GPU Allocating policy\n",
    "# sess = tf.Session(config=config)\n",
    "sess = tf.Session()\n",
    "sess.run(init)\n",
    "\n",
    "for i in range(n_iter):\n",
    "    train_x, train_y = mnist.train.next_batch(50)\n",
    "    train_x = train_x.reshape(-1, 28, 28)\n",
    "    \n",
    "    for j in range(n_step):\n",
    "        # 0 ~ 13 행으로 14행을 prediction해보자\n",
    "        sess.run(optm, feed_dict={x: train_x[:,j:j+n_step,:],  y: train_x[:,j+n_step]}) \n",
    "    if i % n_prt == 0:\n",
    "        # 마지막 13 ~ 26 행까지에서 28행을 prediction한 거랑 실제 28행과의 loss를 계산해보자 \n",
    "        c = sess.run(loss, feed_dict={x: train_x[:,13:13+n_step,:],  y: train_x[:,13+n_step]})\n",
    "        print (\"Iter : {}\".format(i))\n",
    "        print (\"Cost : {}\".format(c))"
   ]
  },
  {
   "cell_type": "code",
   "execution_count": 23,
   "metadata": {},
   "outputs": [
    {
     "name": "stdout",
     "output_type": "stream",
     "text": [
      "(10, 28, 28)\n",
      "(14, 28)\n",
      "(28, 28)\n"
     ]
    },
    {
     "data": {
      "image/png": "[encoded data removed]",
      "text/plain": [
       "<Figure size 432x288 with 1 Axes>"
      ]
     },
     "metadata": {},
     "output_type": "display_data"
    },
    {
     "data": {
      "image/png": "[encoded data removed]",
      "text/plain": [
       "<Figure size 288x216 with 1 Axes>"
      ]
     },
     "metadata": {},
     "output_type": "display_data"
    },
    {
     "data": {
      "image/png": "[encoded data removed]",
      "text/plain": [
       "<Figure size 432x288 with 1 Axes>"
      ]
     },
     "metadata": {},
     "output_type": "display_data"
    },
    {
     "name": "stdout",
     "output_type": "stream",
     "text": [
      "(14, 28)\n",
      "(13, 28)\n"
     ]
    }
   ],
   "source": [
    "test_x, test_y = mnist.test.next_batch(10)\n",
    "test_x = test_x.reshape(-1, 28, 28)\n",
    "\n",
    "idx = 0\n",
    "gen_img = []\n",
    "\n",
    "sample = test_x[idx, 0:14, :]\n",
    "input_img = sample.copy()\n",
    "\n",
    "feeding_img = test_x[idx, 0:0+n_step, :]  \n",
    "\n",
    "for i in range(n_step):\n",
    "    test_pred = sess.run(pred, feed_dict={x: feeding_img.reshape(1, 14, 28)})\n",
    "    feeding_img = np.delete(feeding_img, 0, 0) # axis =0으로 0 번째 행을 없앤다.\n",
    "    feeding_img = np.vstack([feeding_img, test_pred])\n",
    "    gen_img.append(test_pred)\n",
    "    \n",
    "for i in range(n_step):\n",
    "    sample = np.vstack([sample, gen_img[i]])\n",
    "    \n",
    "print(test_x.shape)    \n",
    "print(feeding_img.shape)    \n",
    "print(sample.shape)   \n",
    "plt.imshow(test_x[idx], 'gray')\n",
    "plt.title('Original Img')\n",
    "plt.xticks([])\n",
    "plt.yticks([])\n",
    "plt.show()\n",
    "\n",
    "plt.figure(figsize=(4,3))\n",
    "plt.imshow(input_img, 'gray')\n",
    "plt.title('Input')\n",
    "plt.xticks([])\n",
    "plt.yticks([])\n",
    "plt.show()\n",
    "\n",
    "plt.imshow(sample, 'gray')\n",
    "plt.title('Generated Img')\n",
    "plt.xticks([])\n",
    "plt.yticks([])\n",
    "plt.show()\n",
    "\n",
    "feeding_img = test_x[idx, 0:0+n_step, :]  \n",
    "print(feeding_img.shape)\n",
    "feeding_img = np.delete(feeding_img, 0, 0)\n",
    "print(feeding_img.shape)"
   ]
  },
  {
   "cell_type": "code",
   "execution_count": 14,
   "metadata": {},
   "outputs": [
    {
     "name": "stdout",
     "output_type": "stream",
     "text": [
      "WARNING:tensorflow:From D:\\Dropbox\\HYS\\00 iAI lab\\AI courses\\Python\\00.Example\\02.DL\\RNN.py:46: BasicLSTMCell.__init__ (from tensorflow.python.ops.rnn_cell_impl) is deprecated and will be removed in a future version.\n",
      "Instructions for updating:\n",
      "This class is equivalent as tf.keras.layers.LSTMCell, and will be replaced by that in Tensorflow 2.0.\n",
      "WARNING:tensorflow:From D:\\Dropbox\\HYS\\00 iAI lab\\AI courses\\Python\\00.Example\\02.DL\\RNN.py:47: dynamic_rnn (from tensorflow.python.ops.rnn) is deprecated and will be removed in a future version.\n",
      "Instructions for updating:\n",
      "Please use `keras.layers.RNN(cell)`, which is equivalent to this API\n",
      "WARNING:tensorflow:From c:\\users\\iai_yunseob\\appdata\\local\\programs\\python\\python37\\lib\\site-packages\\tensorflow\\python\\ops\\tensor_array_ops.py:162: colocate_with (from tensorflow.python.framework.ops) is deprecated and will be removed in a future version.\n",
      "Instructions for updating:\n",
      "Colocations handled automatically by placer.\n",
      "WARNING:tensorflow:From c:\\users\\iai_yunseob\\appdata\\local\\programs\\python\\python37\\lib\\site-packages\\tensorflow\\python\\training\\saver.py:1266: checkpoint_exists (from tensorflow.python.training.checkpoint_management) is deprecated and will be removed in a future version.\n",
      "Instructions for updating:\n",
      "Use standard file APIs to check for files with this prefix.\n",
      "INFO:tensorflow:Restoring parameters from ./checkpoint/RNN_5000\n",
      "Model loaded from file : ./checkpoint/RNN_5000\n"
     ]
    }
   ],
   "source": [
    "from RNN import RNN\n",
    "my_rnn = RNN()\n",
    "my_rnn.load('./checkpoint/RNN_5000')"
   ]
  },
  {
   "cell_type": "code",
   "execution_count": 17,
   "metadata": {},
   "outputs": [
    {
     "data": {
      "image/png": "[encoded data removed]",
      "text/plain": [
       "<Figure size 432x288 with 1 Axes>"
      ]
     },
     "metadata": {},
     "output_type": "display_data"
    },
    {
     "data": {
      "image/png": "[encoded data removed]",
      "text/plain": [
       "<Figure size 288x216 with 1 Axes>"
      ]
     },
     "metadata": {},
     "output_type": "display_data"
    },
    {
     "data": {
      "image/png": "[encoded data removed]",
      "text/plain": [
       "<Figure size 432x288 with 1 Axes>"
      ]
     },
     "metadata": {},
     "output_type": "display_data"
    }
   ],
   "source": [
    "test_x, test_y = mnist.test.next_batch(10)\n",
    "test_x = test_x.reshape(-1, 28, 28)\n",
    "\n",
    "sample = test_x[0, 0:14,:]\n",
    "\n",
    "gen_img = my_rnn.predict(sample)\n",
    "\n",
    "plt.imshow(test_x[0], 'gray')\n",
    "plt.title('Original Img')\n",
    "plt.xticks([])\n",
    "plt.yticks([])\n",
    "plt.show()\n",
    "\n",
    "plt.figure(figsize=(4,3))\n",
    "plt.imshow(sample, 'gray')\n",
    "plt.title('Input')\n",
    "plt.xticks([])\n",
    "plt.yticks([])\n",
    "plt.show()\n",
    "\n",
    "plt.imshow(gen_img, 'gray')\n",
    "plt.title('Generated Img')\n",
    "plt.xticks([])\n",
    "plt.yticks([])\n",
    "plt.show()"
   ]
  }
 ],
 "metadata": {
  "kernelspec": {
   "display_name": "Python 3",
   "language": "python",
   "name": "python3"
  },
  "language_info": {
   "codemirror_mode": {
    "name": "ipython",
    "version": 3
   },
   "file_extension": ".py",
   "mimetype": "text/x-python",
   "name": "python",
   "nbconvert_exporter": "python",
   "pygments_lexer": "ipython3",
   "version": "3.7.2"
  }
 },
 "nbformat": 4,
 "nbformat_minor": 2
}
