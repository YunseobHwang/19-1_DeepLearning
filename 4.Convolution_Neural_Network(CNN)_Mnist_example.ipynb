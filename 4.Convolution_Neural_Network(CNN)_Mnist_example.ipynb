{
 "cells": [
  {
   "cell_type": "code",
   "execution_count": 2,
   "metadata": {},
   "outputs": [],
   "source": [
    "# Import Library\n",
    "import numpy as np\n",
    "import matplotlib.pyplot as plt\n",
    "import tensorflow as tf"
   ]
  },
  {
   "cell_type": "code",
   "execution_count": 1,
   "metadata": {},
   "outputs": [
    {
     "name": "stdout",
     "output_type": "stream",
     "text": [
      "WARNING:tensorflow:From <ipython-input-1-8bf8ae5a5303>:2: read_data_sets (from tensorflow.contrib.learn.python.learn.datasets.mnist) is deprecated and will be removed in a future version.\n",
      "Instructions for updating:\n",
      "Please use alternatives such as official/mnist/dataset.py from tensorflow/models.\n",
      "WARNING:tensorflow:From c:\\users\\iai_yunseob\\appdata\\local\\programs\\python\\python37\\lib\\site-packages\\tensorflow\\contrib\\learn\\python\\learn\\datasets\\mnist.py:260: maybe_download (from tensorflow.contrib.learn.python.learn.datasets.base) is deprecated and will be removed in a future version.\n",
      "Instructions for updating:\n",
      "Please write your own downloading logic.\n",
      "WARNING:tensorflow:From c:\\users\\iai_yunseob\\appdata\\local\\programs\\python\\python37\\lib\\site-packages\\tensorflow\\contrib\\learn\\python\\learn\\datasets\\mnist.py:262: extract_images (from tensorflow.contrib.learn.python.learn.datasets.mnist) is deprecated and will be removed in a future version.\n",
      "Instructions for updating:\n",
      "Please use tf.data to implement this functionality.\n",
      "Extracting MNIST_data/train-images-idx3-ubyte.gz\n",
      "WARNING:tensorflow:From c:\\users\\iai_yunseob\\appdata\\local\\programs\\python\\python37\\lib\\site-packages\\tensorflow\\contrib\\learn\\python\\learn\\datasets\\mnist.py:267: extract_labels (from tensorflow.contrib.learn.python.learn.datasets.mnist) is deprecated and will be removed in a future version.\n",
      "Instructions for updating:\n",
      "Please use tf.data to implement this functionality.\n",
      "Extracting MNIST_data/train-labels-idx1-ubyte.gz\n",
      "WARNING:tensorflow:From c:\\users\\iai_yunseob\\appdata\\local\\programs\\python\\python37\\lib\\site-packages\\tensorflow\\contrib\\learn\\python\\learn\\datasets\\mnist.py:110: dense_to_one_hot (from tensorflow.contrib.learn.python.learn.datasets.mnist) is deprecated and will be removed in a future version.\n",
      "Instructions for updating:\n",
      "Please use tf.one_hot on tensors.\n",
      "Extracting MNIST_data/t10k-images-idx3-ubyte.gz\n",
      "Extracting MNIST_data/t10k-labels-idx1-ubyte.gz\n",
      "WARNING:tensorflow:From c:\\users\\iai_yunseob\\appdata\\local\\programs\\python\\python37\\lib\\site-packages\\tensorflow\\contrib\\learn\\python\\learn\\datasets\\mnist.py:290: DataSet.__init__ (from tensorflow.contrib.learn.python.learn.datasets.mnist) is deprecated and will be removed in a future version.\n",
      "Instructions for updating:\n",
      "Please use alternatives such as official/mnist/dataset.py from tensorflow/models.\n"
     ]
    }
   ],
   "source": [
    "from tensorflow.examples.tutorials.mnist import input_data\n",
    "mnist = input_data.read_data_sets(\"MNIST_data/\", one_hot=True)"
   ]
  },
  {
   "cell_type": "code",
   "execution_count": 5,
   "metadata": {},
   "outputs": [
    {
     "name": "stdout",
     "output_type": "stream",
     "text": [
      "[[0. 0. 0. ... 0. 0. 0.]\n",
      " [0. 0. 0. ... 0. 0. 0.]\n",
      " [0. 0. 0. ... 0. 0. 0.]\n",
      " ...\n",
      " [0. 0. 0. ... 0. 0. 0.]\n",
      " [0. 0. 0. ... 0. 0. 0.]\n",
      " [0. 0. 0. ... 0. 0. 0.]]\n",
      "(10, 784)\n",
      "[[0. 0. 0. 0. 0. 0. 0. 1. 0. 0.]\n",
      " [0. 0. 0. 0. 0. 1. 0. 0. 0. 0.]\n",
      " [0. 0. 0. 0. 0. 0. 1. 0. 0. 0.]\n",
      " [1. 0. 0. 0. 0. 0. 0. 0. 0. 0.]\n",
      " [0. 0. 0. 0. 0. 0. 0. 0. 1. 0.]\n",
      " [1. 0. 0. 0. 0. 0. 0. 0. 0. 0.]\n",
      " [0. 0. 0. 1. 0. 0. 0. 0. 0. 0.]\n",
      " [0. 0. 0. 0. 0. 0. 0. 0. 0. 1.]\n",
      " [0. 0. 1. 0. 0. 0. 0. 0. 0. 0.]\n",
      " [0. 0. 0. 0. 0. 1. 0. 0. 0. 0.]]\n",
      "(10, 10)\n"
     ]
    },
    {
     "data": {
      "image/png": "[encoded data removed]",
      "text/plain": [
       "<Figure size 360x216 with 1 Axes>"
      ]
     },
     "metadata": {},
     "output_type": "display_data"
    }
   ],
   "source": [
    "# Check data\n",
    "train_x, train_y = mnist.train.next_batch(10)\n",
    "print(train_x)\n",
    "print(train_x.shape)\n",
    "print(train_y)\n",
    "print(train_y.shape)\n",
    "img = train_x[9,:].reshape(28, 28)\n",
    "\n",
    "plt.figure(figsize=(5, 3))\n",
    "plt.imshow(img,'gray')\n",
    "plt.title(\"Label : {}\".format(np.argmax(train_y[9])))\n",
    "plt.xticks([])\n",
    "plt.yticks([])\n",
    "plt.show()"
   ]
  },
  {
   "cell_type": "code",
   "execution_count": 4,
   "metadata": {},
   "outputs": [],
   "source": [
    "input_h = 28 # Input height\n",
    "input_w = 28 # Input width\n",
    "input_ch = 1 # Input channel : Gray scale\n",
    "# (None, 28, 28, 1)\n",
    "\n",
    "## First convolution layer\n",
    "# Filter size\n",
    "k1_h = 3\n",
    "k1_w = 3\n",
    "# the number of channels\n",
    "k1_ch = 32\n",
    "# Pooling size\n",
    "p1_h = 2\n",
    "p1_w = 2\n",
    "# (None, 14, 14 ,32)\n",
    "\n",
    "## Second convolution layer\n",
    "# Filter size\n",
    "k2_h = 3\n",
    "k2_w = 3\n",
    "# the number of channels\n",
    "k2_ch = 64\n",
    "# Pooling size\n",
    "p2_h = 2\n",
    "p2_w = 2\n",
    "# (None, 7, 7 ,64)\n",
    "\n",
    "## Fully connected\n",
    "# Flatten the features\n",
    "# -> (None, 7*7*64)\n",
    "conv_result_size = int((28/(2*2)) * (28/(2*2)) * k2_ch)\n",
    "n_hidden1 = 100\n",
    "n_output = 10"
   ]
  },
  {
   "cell_type": "code",
   "execution_count": 8,
   "metadata": {},
   "outputs": [],
   "source": [
    "weights = {\n",
    "    #conv1 filter 3x3, channel x channel 1x32\n",
    "    #conv2 3x3, 32x64\n",
    "    #hidden1 7x7x64, 100\n",
    "    #output 100, 10\n",
    "    'conv1' : tf.Variable(tf.random_normal([k1_h, k1_w, input_ch, k1_ch],stddev = 0.1)),\n",
    "    'conv2' : tf.Variable(tf.random_normal([k2_h, k2_w, k1_ch, k2_ch],stddev = 0.1)),\n",
    "    'hidden1' : tf.Variable(tf.random_normal([conv_result_size, n_hidden1], stddev = 0.1)),\n",
    "    'output' : tf.Variable(tf.random_normal([n_hidden1, n_output], stddev = 0.1))\n",
    "}\n",
    "\n",
    "biases = {\n",
    "    'conv1' : tf.Variable(tf.random_normal([k1_ch], stddev = 0.1)),\n",
    "    'conv2' : tf.Variable(tf.random_normal([k2_ch], stddev = 0.1)),\n",
    "    'hidden1' : tf.Variable(tf.random_normal([n_hidden1], stddev = 0.1)),\n",
    "    'output' : tf.Variable(tf.random_normal([n_output], stddev = 0.1))\n",
    "}\n",
    "\n",
    "x = tf.placeholder(tf.float32, [None, input_h, input_w, input_ch])\n",
    "y = tf.placeholder(tf.float32, [None, n_output])"
   ]
  },
  {
   "cell_type": "code",
   "execution_count": 9,
   "metadata": {},
   "outputs": [],
   "source": [
    "# Define Network\n",
    "def net(x, weights, biases):\n",
    "    ## First convolution layer\n",
    "    conv1 = tf.nn.conv2d(x, weights['conv1'], \n",
    "                         strides= [1, 1, 1, 1], \n",
    "                         padding = 'SAME')\n",
    "    conv1 = tf.nn.relu(tf.add(conv1, biases['conv1']))\n",
    "    maxp1 = tf.nn.max_pool(conv1, \n",
    "                           ksize = [1, p1_h, p1_w, 1], \n",
    "                           strides = [1, p1_h, p1_w, 1], \n",
    "                           padding = 'VALID'\n",
    "                           )\n",
    "    \n",
    "    ## Second convolution layer\n",
    "    conv2 = tf.nn.conv2d(maxp1, weights['conv2'], \n",
    "                         strides= [1, 1, 1, 1], \n",
    "                         padding = 'SAME')\n",
    "    conv2 = tf.nn.relu(tf.add(conv2, biases['conv2']))\n",
    "    maxp2 = tf.nn.max_pool(conv2, \n",
    "                           ksize = [1, p2_h, p2_w, 1], \n",
    "                           strides = [1, p2_h, p2_w, 1], \n",
    "                           padding = 'VALID')\n",
    "\n",
    "    # shape = conv2.get_shape().as_list()\n",
    "    # maxp2_re = tf.reshape(conv2, [-1, shape[1]*shape[2]*shape[3]])\n",
    "    maxp2_re = tf.reshape(maxp2, [-1, conv_result_size])\n",
    "    \n",
    "    ### Fully connected\n",
    "    hidden1 = tf.add(tf.matmul(maxp2_re, weights['hidden1']), biases['hidden1'])\n",
    "    hidden1 = tf.nn.relu(hidden1)\n",
    "    output = tf.add(tf.matmul(hidden1, weights['output']), biases['output'])\n",
    "    return output"
   ]
  },
  {
   "cell_type": "code",
   "execution_count": 20,
   "metadata": {},
   "outputs": [],
   "source": [
    "LR = 0.0001\n",
    "\n",
    "pred = net(x, weights, biases)\n",
    "# loss = tf.nn.softmax_cross_entropy_with_logits(labels=y, logits=pred)\n",
    "loss = tf.nn.softmax_cross_entropy_with_logits_v2(labels=y, logits=pred)\n",
    "loss = tf.reduce_mean(loss)\n",
    "\n",
    "# optimizer = tf.train.GradientDescentOptimizer(learning_rate).minimize(cost)\n",
    "optm = tf.train.AdamOptimizer(LR).minimize(loss)\n",
    "\n",
    "init = tf.global_variables_initializer()"
   ]
  },
  {
   "cell_type": "code",
   "execution_count": 6,
   "metadata": {},
   "outputs": [
    {
     "name": "stdout",
     "output_type": "stream",
     "text": [
      "(50, 784)\n",
      "(50, 28, 28, 1)\n"
     ]
    }
   ],
   "source": [
    "n_batch = 50\n",
    "n_iter = 2500\n",
    "n_prt = 250\n",
    "\n",
    "train_x, train_y = mnist.train.next_batch(n_batch)\n",
    "\n",
    "print(train_x.shape)\n",
    "train_x = np.reshape(train_x, [-1, input_h, input_w, input_ch]) \n",
    "\n",
    "print(train_x.shape)"
   ]
  },
  {
   "cell_type": "code",
   "execution_count": 22,
   "metadata": {},
   "outputs": [
    {
     "name": "stdout",
     "output_type": "stream",
     "text": [
      "Iter : 0\n",
      "Cost : 2.5083281993865967\n",
      "Iter : 250\n",
      "Cost : 0.6018462181091309\n",
      "Iter : 500\n",
      "Cost : 0.49165648221969604\n",
      "Iter : 750\n",
      "Cost : 0.2528713643550873\n",
      "Iter : 1000\n",
      "Cost : 0.3270004391670227\n",
      "Iter : 1250\n",
      "Cost : 0.1455456018447876\n",
      "Iter : 1500\n",
      "Cost : 0.19985465705394745\n",
      "Iter : 1750\n",
      "Cost : 0.08773523569107056\n",
      "Iter : 2000\n",
      "Cost : 0.11563300341367722\n",
      "Iter : 2250\n",
      "Cost : 0.2151322364807129\n"
     ]
    }
   ],
   "source": [
    "# Run initialize\n",
    "# config = tf.ConfigProto(allow_soft_placement=True)  # GPU Allocating policy\n",
    "# sess = tf.Session(config=config)\n",
    "sess = tf.Session()\n",
    "sess.run(init)\n",
    "\n",
    "# Training cycle\n",
    "for epoch in range(n_iter):\n",
    "    train_x, train_y = mnist.train.next_batch(n_batch)\n",
    "    train_x = np.reshape(train_x, [-1, input_h, input_w, input_ch]) # !   \n",
    "    sess.run(optm, feed_dict={x: train_x,  y: train_y})\n",
    "    \n",
    "    if epoch % n_prt == 0:\n",
    "        c = sess.run(loss, feed_dict={x: train_x, y: train_y})\n",
    "        print (\"Iter : {}\".format(epoch))\n",
    "        print (\"Cost : {}\".format(c))"
   ]
  },
  {
   "cell_type": "code",
   "execution_count": 29,
   "metadata": {},
   "outputs": [
    {
     "name": "stdout",
     "output_type": "stream",
     "text": [
      "Accuracy : 93.0%\n"
     ]
    }
   ],
   "source": [
    "test_x, test_y = mnist.test.next_batch(100)\n",
    "\n",
    "my_pred = sess.run(pred, feed_dict={x : test_x.reshape(-1, 28, 28, 1)})\n",
    "my_pred = np.argmax(my_pred, axis=1)\n",
    "\n",
    "labels = np.argmax(test_y, axis=1)\n",
    "\n",
    "accr = np.mean(np.equal(my_pred, labels))\n",
    "print(\"Accuracy : {}%\".format(accr*100))"
   ]
  },
  {
   "cell_type": "code",
   "execution_count": 30,
   "metadata": {
    "scrolled": false
   },
   "outputs": [
    {
     "name": "stdout",
     "output_type": "stream",
     "text": [
      "logits [[0.   0.   0.07 0.9  0.   0.04 0.   0.   0.   0.  ]]\n",
      "logits.ravel() [0.   0.   0.07 0.9  0.   0.04 0.   0.   0.   0.  ]\n"
     ]
    },
    {
     "data": {
      "image/png": "[encoded data removed]",
      "text/plain": [
       "<Figure size 432x288 with 1 Axes>"
      ]
     },
     "metadata": {},
     "output_type": "display_data"
    },
    {
     "name": "stdout",
     "output_type": "stream",
     "text": [
      "Prediction : 3\n"
     ]
    },
    {
     "data": {
      "image/png": "[encoded data removed]",
      "text/plain": [
       "<Figure size 432x288 with 1 Axes>"
      ]
     },
     "metadata": {
      "needs_background": "light"
     },
     "output_type": "display_data"
    },
    {
     "name": "stdout",
     "output_type": "stream",
     "text": [
      "Probability : [0.   0.   0.07 0.9  0.   0.04 0.   0.   0.   0.  ]\n"
     ]
    }
   ],
   "source": [
    "test_x, test_y = mnist.test.next_batch(1)\n",
    "logits = sess.run(tf.nn.softmax(pred), feed_dict={x : test_x.reshape(-1, 28, 28, 1)})\n",
    "print(\"logits\", logits)\n",
    "print(\"logits.ravel()\",logits.ravel())\n",
    "predict = np.argmax(logits)\n",
    "\n",
    "plt.imshow(test_x.reshape(28, 28), 'gray')\n",
    "plt.xticks([])\n",
    "plt.yticks([])\n",
    "plt.show()\n",
    "\n",
    "print('Prediction : {}'.format(predict))\n",
    "\n",
    "plt.stem(logits.ravel())\n",
    "plt.show()\n",
    "\n",
    "np.set_printoptions(precision=2, suppress=True)\n",
    "print('Probability : {}'.format(logits.ravel()))"
   ]
  },
  {
   "cell_type": "code",
   "execution_count": null,
   "metadata": {},
   "outputs": [],
   "source": []
  }
 ],
 "metadata": {
  "kernelspec": {
   "display_name": "Python 3",
   "language": "python",
   "name": "python3"
  },
  "language_info": {
   "codemirror_mode": {
    "name": "ipython",
    "version": 3
   },
   "file_extension": ".py",
   "mimetype": "text/x-python",
   "name": "python",
   "nbconvert_exporter": "python",
   "pygments_lexer": "ipython3",
   "version": "3.7.2"
  }
 },
 "nbformat": 4,
 "nbformat_minor": 2
}
